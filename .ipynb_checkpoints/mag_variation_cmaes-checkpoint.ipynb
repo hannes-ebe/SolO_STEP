{
 "cells": [
  {
   "cell_type": "markdown",
   "metadata": {},
   "source": [
    "# Suche Magnetfeld für optimale Korrektur mittels CMA-ES"
   ]
  },
  {
   "cell_type": "code",
   "execution_count": 1,
   "metadata": {},
   "outputs": [
    {
     "ename": "ModuleNotFoundError",
     "evalue": "No module named 'cma'",
     "output_type": "error",
     "traceback": [
      "Traceback \u001b[0;36m(most recent call last)\u001b[0m:\n",
      "\u001b[0;36m  Cell \u001b[0;32mIn[1], line 4\u001b[0;36m\n\u001b[0;31m    import cma\u001b[0;36m\n",
      "\u001b[0;31mModuleNotFoundError\u001b[0m\u001b[0;31m:\u001b[0m No module named 'cma'\n"
     ]
    }
   ],
   "source": [
    "import numpy as np\n",
    "import matplotlib.pyplot as plt\n",
    "import datetime as dt\n",
    "import cma\n",
    "from STEP import STEP"
   ]
  },
  {
   "cell_type": "code",
   "execution_count": 2,
   "metadata": {},
   "outputs": [
    {
     "name": "stdout",
     "output_type": "stream",
     "text": [
      "STEP-Data loaded successfully.\n",
      "STEP-Data combined successfully.\n",
      "2021-12-04 00:00:00 data/mag/srf/2021/solo_L2_mag-srf-normal_20211204_V01.cdf\n"
     ]
    }
   ],
   "source": [
    "ebins = np.array([  0.98 ,   2.144,   2.336,   2.544,   2.784,   3.04 ,   3.312,\n",
    "         3.6  ,   3.92 ,   4.288,   4.672,   5.088,   5.568,   6.08 ,\n",
    "         6.624,   7.2  ,   7.84 ,   8.576,   9.344,  10.176,  11.136,\n",
    "        12.16 ,  13.248,  14.4  ,  15.68 ,  17.152,  18.688,  20.352,\n",
    "        22.272,  24.32 ,  26.496,  28.8  ,  31.36 ,  34.304,  37.376,\n",
    "        40.704,  44.544,  48.64 ,  52.992,  57.6  ,  62.72 ,  68.608,\n",
    "        74.752,  81.408,  89.088,  97.28 , 105.984, 115.2  , 125.44 ,\n",
    "       137.216, 149.504, 162.816, 178.176, 194.56 , 211.968, 230.4  ,\n",
    "       372.736])\n",
    "\n",
    "def grenz(t):\n",
    "    return -0.5*t + 20\n",
    "\n",
    "# dat = STEP(2021, 12, 4, rpath='data/STEP/', mag_path='data/mag/srf', mag_frame = 'srf')\n",
    "dat = STEP(2021,12,4,mag_path='default',mag_frame='srf')\n",
    "period =(dt.datetime(2021,12,4,13,50),dt.datetime(2021,12,4,14,30))"
   ]
  },
  {
   "cell_type": "code",
   "execution_count": 25,
   "metadata": {},
   "outputs": [],
   "source": [
    "def pw(flow,B,B_offset):\n",
    "    '''Übergebe den particle flow-Vektor als Geschwindigkeit und den Magnetfeldvektor (am besten in SRF) und berechne die Pitchwinkel über das Skalarprodukt.\n",
    "    Zusätzlich kann für die Magnetfeldkomponenten ein konstanter Offset übergeben werden.'''\n",
    "    len_flow = np.sqrt(flow[0]**2 + flow[1]**2 + flow[2]**2)\n",
    "    len_B = np.sqrt((B[0]+B_offset[0])**2 + (B[1]+B_offset[1])**2 + (B[2]+B_offset[2])**2)\n",
    "    argument = (flow[0]*(B[0]+B_offset[0]) + flow[1]*(B[1]+B_offset[1]) + flow[2]*(B[2]+B_offset[2]))/len_flow/len_B\n",
    "    result = np.arccos(argument)\n",
    "    return result\n",
    "        \n",
    "def calc_pw(dat,B_offset):\n",
    "    '''Berechne die Pitchwinkel für die Elektronen, welche auf STEP treffen in erster Näherung.\n",
    "    Dafür wird der Winkel zwischen dem particle flow vector der Pixel und dem Magnetfeld herangezogen.\n",
    "    Kann wieder einen Offset für das Magnetfeld übergeben.'''\n",
    "    pws =  []\n",
    "    for i in range(15):\n",
    "        pws.append(pw(dat.flow_vector[i],[dat.B_R,dat.B_T,dat.B_N],B_offset))\n",
    "    return np.array(pws)\n",
    "\n",
    "def average_pw(dat,period,pitchangles,window_width=5):\n",
    "    '''Berechnung der gemittelten Pitchwinkel'''\n",
    "    # Maske, da ich nur die Magnetfelddaten innerhalb von period brauche:\n",
    "    mask = (dat.time > period[0]) * (dat.time <= period[1])\n",
    "    pw = [[] for i in range(15)]\n",
    "    pw_time = []\n",
    "        \n",
    "    i = 0\n",
    "    while (period[0] + dt.timedelta(minutes=(i+1)*window_width)) <= period[1]:\n",
    "        pw_time.append(period[0] + dt.timedelta(minutes=(i+0.5)*window_width))\n",
    "            \n",
    "        for k in [i for i in range(1,16)]:\n",
    "            # Mittelung der Pitchwinkel (k-1, da ich keine Zeit im array stehen habe)\n",
    "            pw_data = pitchangles[k-1][mask]\n",
    "            new_pw = np.sum(pw_data[i*window_width:(i+1)*window_width])/window_width\n",
    "            pw[k-1].append(new_pw)\n",
    "        i +=1\n",
    "    return pw, pw_time\n",
    "\n",
    "def step_plot_correction_multiple_offsets(dat, period, grenz, Offsets, title=None):\n",
    "    '''Berechne und Plotte die Korrektur für manipulierte Magnetfelddaten und packe alles in einen Plot.'''\n",
    "\n",
    "    pixel_means, pixel_var = dat.calc_energy_means(ebins=ebins,head=-1, period=period, grenzfunktion=grenz, norm='ptmax')\n",
    "    \n",
    "    # Offsets = np.array([np.zeros(11),np.zeros(11),np.array([i for i in range(-5,6)])]).T\n",
    "\n",
    "    pixel1 = 3\n",
    "    \n",
    "    fig, ax = dat.step_plot('time', 'difference of energy means [keV]', f'difference of corrected energy means to pixel {pixel1}')\n",
    "\n",
    "    for B_offset in Offsets:\n",
    "        pitchangles = calc_pw(dat.mag,B_offset)\n",
    "        pw, pw_time = average_pw(dat.mag,period,pitchangles)\n",
    "\n",
    "        year = str(period[0].year - 2000)\n",
    "        if period[0].month < 10:\n",
    "            month = '0' + str(period[0].month)\n",
    "        else:\n",
    "            month = str(period[0].month)\n",
    "        if period[0].day < 10:\n",
    "            day = '0' + str(period[0].day)\n",
    "        else:\n",
    "            day = str(period[0].day)\n",
    "\n",
    "        ax[0].plot([],[],label=str(B_offset))\n",
    "\n",
    "        for pixel2 in range(1,16):\n",
    "            # Übergebe willkürliche Fehler, da ich diese eh nicht brauche.\n",
    "            energy2_corrected = dat.energy_correction(pixel_means[pixel2],pw[pixel1-1],pw[pixel2-1],2,2)[0]\n",
    "            diff_corrected = energy2_corrected - pixel_means[pixel1]\n",
    "            \n",
    "            ax[pixel2].plot(pixel_means[0],diff_corrected,marker='x')\n",
    "            ax[pixel2].axhline(0,color='tab:red')\n",
    "                \n",
    "            ax[pixel2].tick_params(axis='x',labelrotation=45)\n",
    "    ax[0].legend()\n",
    "    if type(title) == str:\n",
    "        plt.savefig(f'mag_variation_cmaes/' + title + '.png')\n",
    "    else:\n",
    "        plt.savefig(f'mag_variation_cmaes/step_plot_total_correction_differences_energy_pixel{pixel1}_{year}_{month}_{day}_multiple_offsets.png')\n",
    "    plt.close('all')"
   ]
  },
  {
   "cell_type": "code",
   "execution_count": 27,
   "metadata": {},
   "outputs": [],
   "source": [
    "def func_to_min(B_offset,pixel_means,reference_pixel=3):\n",
    "        '''Berechne für jeden Pixel den Mittelwert der Abweichungen aus allen Werten der Zeitreihe.\n",
    "        Anschließend mittele ich über alle Pixel.'''\n",
    "        deviation_of_pixels = []\n",
    "\n",
    "        for pixel in range(1,16):\n",
    "                pitchangles = calc_pw(dat.mag,B_offset)\n",
    "                pw, pw_time = average_pw(dat.mag,period,pitchangles)\n",
    "\n",
    "                energy2_corrected = dat.energy_correction(pixel_means[pixel],pw[reference_pixel-1],pw[pixel-1],2,2)[0]\n",
    "                diff_corrected = energy2_corrected - pixel_means[reference_pixel]\n",
    "                pixel_deviation = np.sum(diff_corrected)/len(diff_corrected)\n",
    "                deviation_of_pixels.append(pixel_deviation)\n",
    "\n",
    "        total_deviation = np.sum(np.array(deviation_of_pixels))/len(deviation_of_pixels)\n",
    "        print('calculated function to minimize')\n",
    "        return abs(total_deviation)\n",
    "\n",
    "def func_to_min2(B_offset,pixel_means,reference_pixel=3):\n",
    "        '''Berechne für jeden Pixel den Mittelwert der Abweichungen aus allen Werten der Zeitreihe.\n",
    "        Anschließend mittele ich über alle Pixel.'''\n",
    "        deviation_of_pixels = np.array([])\n",
    "\n",
    "        for pixel in range(1,16):\n",
    "                pitchangles = calc_pw(dat.mag,B_offset)\n",
    "                pw, pw_time = average_pw(dat.mag,period,pitchangles)\n",
    "\n",
    "                energy2_corrected = dat.energy_correction(pixel_means[pixel],pw[reference_pixel-1],pw[pixel-1],2,2)[0]\n",
    "                diff_corrected = energy2_corrected - pixel_means[reference_pixel]\n",
    "                deviation_of_pixels = np.concatenate((deviation_of_pixels,diff_corrected))\n",
    "\n",
    "        total_deviation = np.sum(np.array(deviation_of_pixels))/len(deviation_of_pixels)\n",
    "        print('calculated function to minimize')\n",
    "        return abs(total_deviation)"
   ]
  },
  {
   "cell_type": "code",
   "execution_count": 12,
   "metadata": {},
   "outputs": [],
   "source": [
    "pixel_means = dat.calc_energy_means(ebins=ebins,head=-1, period=period, grenzfunktion=grenz, norm='ptmax')[0]"
   ]
  },
  {
   "cell_type": "code",
   "execution_count": 28,
   "metadata": {},
   "outputs": [
    {
     "name": "stderr",
     "output_type": "stream",
     "text": [
      "c:\\Users\\ebel1\\anaconda3\\lib\\site-packages\\cma\\utilities\\utils.py:343: UserWarning: input x0 should be a list or 1-D array, trying to flatten (1, 3)-array ()\n",
      "  warnings.warn(msg + ' (' +\n"
     ]
    },
    {
     "name": "stdout",
     "output_type": "stream",
     "text": [
      "(3_w,7)-aCMA-ES (mu_w=2.3,w_1=58%) in dimension 3 (seed=897942, Fri Sep 15 13:11:02 2023)\n",
      "calculated function to minimize\n",
      "calculated function to minimize\n",
      "calculated function to minimize\n",
      "calculated function to minimize\n",
      "calculated function to minimize\n",
      "calculated function to minimize\n",
      "calculated function to minimize\n",
      "Iterat #Fevals   function value  axis ratio  sigma  min&max std  t[m:s]\n",
      "    1      7 3.578349503817720e-02 1.0e+00 4.28e-01  4e-01  4e-01 1:03.7\n",
      "calculated function to minimize\n",
      "calculated function to minimize\n",
      "calculated function to minimize\n",
      "calculated function to minimize\n",
      "calculated function to minimize\n",
      "calculated function to minimize\n",
      "calculated function to minimize\n",
      "    2     14 2.385157695454521e-02 1.3e+00 5.60e-01  5e-01  7e-01 2:07.0\n",
      "calculated function to minimize\n",
      "calculated function to minimize\n",
      "calculated function to minimize\n",
      "calculated function to minimize\n",
      "calculated function to minimize\n",
      "calculated function to minimize\n",
      "calculated function to minimize\n",
      "    3     21 1.432495816795865e-02 1.7e+00 5.90e-01  5e-01  7e-01 3:15.3\n",
      "calculated function to minimize\n",
      "calculated function to minimize\n",
      "calculated function to minimize\n",
      "calculated function to minimize\n",
      "calculated function to minimize\n",
      "calculated function to minimize\n",
      "calculated function to minimize\n",
      "    4     28 9.007941501610552e-02 1.9e+00 4.66e-01  3e-01  6e-01 4:26.3\n",
      "calculated function to minimize\n",
      "calculated function to minimize\n",
      "calculated function to minimize\n",
      "calculated function to minimize\n",
      "calculated function to minimize\n",
      "calculated function to minimize\n",
      "calculated function to minimize\n",
      "    5     35 5.349016239259026e-02 2.1e+00 3.59e-01  3e-01  4e-01 5:29.5\n",
      "calculated function to minimize\n",
      "calculated function to minimize\n",
      "calculated function to minimize\n",
      "calculated function to minimize\n",
      "calculated function to minimize\n",
      "calculated function to minimize\n",
      "calculated function to minimize\n",
      "    6     42 1.761772710696400e-02 2.1e+00 3.04e-01  2e-01  3e-01 6:32.3\n",
      "calculated function to minimize\n",
      "calculated function to minimize\n",
      "calculated function to minimize\n",
      "calculated function to minimize\n",
      "calculated function to minimize\n",
      "calculated function to minimize\n",
      "calculated function to minimize\n",
      "    7     49 1.033026119444003e-03 2.4e+00 3.63e-01  2e-01  4e-01 7:36.8\n",
      "calculated function to minimize\n",
      "calculated function to minimize\n",
      "calculated function to minimize\n",
      "calculated function to minimize\n",
      "calculated function to minimize\n",
      "calculated function to minimize\n",
      "calculated function to minimize\n",
      "    8     56 3.017885917776771e-03 2.5e+00 5.44e-01  3e-01  6e-01 8:40.6\n",
      "calculated function to minimize\n",
      "calculated function to minimize\n",
      "calculated function to minimize\n",
      "calculated function to minimize\n",
      "calculated function to minimize\n",
      "calculated function to minimize\n",
      "calculated function to minimize\n",
      "    9     63 7.322858527304039e-02 3.2e+00 6.01e-01  3e-01  6e-01 9:44.9\n",
      "calculated function to minimize\n",
      "calculated function to minimize\n",
      "calculated function to minimize\n",
      "calculated function to minimize\n",
      "calculated function to minimize\n",
      "calculated function to minimize\n",
      "calculated function to minimize\n",
      "   10     70 1.342461863903720e-02 3.5e+00 6.08e-01  4e-01  7e-01 10:47.9\n",
      "calculated function to minimize\n",
      "calculated function to minimize\n",
      "calculated function to minimize\n",
      "calculated function to minimize\n",
      "calculated function to minimize\n",
      "calculated function to minimize\n",
      "calculated function to minimize\n",
      "   11     77 5.624768107541793e-03 4.1e+00 4.84e-01  3e-01  5e-01 11:50.3\n",
      "calculated function to minimize\n",
      "calculated function to minimize\n",
      "calculated function to minimize\n",
      "calculated function to minimize\n",
      "calculated function to minimize\n",
      "calculated function to minimize\n",
      "calculated function to minimize\n",
      "   12     84 1.138778422539233e-02 4.7e+00 4.44e-01  2e-01  5e-01 12:54.0\n",
      "calculated function to minimize\n",
      "calculated function to minimize\n",
      "calculated function to minimize\n",
      "calculated function to minimize\n",
      "calculated function to minimize\n",
      "calculated function to minimize\n",
      "calculated function to minimize\n",
      "   13     91 8.853263063872536e-04 5.8e+00 4.21e-01  2e-01  5e-01 13:57.8\n",
      "calculated function to minimize\n",
      "calculated function to minimize\n",
      "calculated function to minimize\n",
      "calculated function to minimize\n",
      "calculated function to minimize\n",
      "calculated function to minimize\n",
      "calculated function to minimize\n",
      "   14     98 2.432219110279104e-02 6.4e+00 4.21e-01  2e-01  5e-01 15:02.1\n",
      "calculated function to minimize\n",
      "calculated function to minimize\n",
      "calculated function to minimize\n",
      "calculated function to minimize\n",
      "calculated function to minimize\n",
      "calculated function to minimize\n",
      "calculated function to minimize\n",
      "   15    105 2.566143987989496e-03 7.9e+00 3.30e-01  2e-01  4e-01 16:06.1\n",
      "calculated function to minimize\n",
      "termination on maxfevals=100 (Fri Sep 15 13:27:17 2023)\n",
      "final/bestever f-value = 4.942150e-03 8.853263e-04 after 106/87 evaluations\n",
      "incumbent solution: [-1.1598118207096957, 0.26771628503645917, -1.2669826122156809]\n",
      "std deviation: [0.3994998164282894, 0.19171449257604734, 0.2988988485369194]\n",
      "[-1.46507209  0.41276429 -1.39693563]\n"
     ]
    }
   ],
   "source": [
    "B_offset0 = [0,0,0]\n",
    "\n",
    "x_opt, es = cma.fmin2(objective_function = func_to_min2, x0 = [B_offset0], sigma0 = 0.5, args = [pixel_means], options = {'maxfevals':100})\n",
    "print(x_opt)"
   ]
  },
  {
   "cell_type": "code",
   "execution_count": 29,
   "metadata": {},
   "outputs": [
    {
     "name": "stdout",
     "output_type": "stream",
     "text": [
      "termination on maxfevals=100\n",
      "final/bestever f-value = 8.853263e-04 8.853263e-04 after 106/87 evaluations\n",
      "incumbent solution: [-1.1598118207096957, 0.26771628503645917, -1.2669826122156809]\n",
      "std deviation: [0.3994998164282894, 0.19171449257604734, 0.2988988485369194]\n"
     ]
    },
    {
     "data": {
      "text/plain": [
       "CMAEvolutionStrategyResult(xbest=array([-1.46507209,  0.41276429, -1.39693563]), fbest=0.0008853263063872536, evals_best=87, evaluations=106, iterations=15, xfavorite=array([-1.15981182,  0.26771629, -1.26698261]), stds=array([0.39949982, 0.19171449, 0.29889885]), stop={'maxfevals': 100})"
      ]
     },
     "execution_count": 29,
     "metadata": {},
     "output_type": "execute_result"
    }
   ],
   "source": [
    "es.result_pretty()"
   ]
  },
  {
   "cell_type": "code",
   "execution_count": 30,
   "metadata": {},
   "outputs": [
    {
     "name": "stdout",
     "output_type": "stream",
     "text": [
      "[-1.46507209  0.41276429 -1.39693563]\n"
     ]
    }
   ],
   "source": [
    "B_offset = x_opt\n",
    "print(B_offset)\n",
    "\n",
    "step_plot_correction_multiple_offsets(dat,period,grenz,[[0,0,0],B_offset],'mag_variation_cmaes_2021_12_04_second_try')"
   ]
  },
  {
   "cell_type": "markdown",
   "metadata": {},
   "source": [
    "Versuche Pixel einzeln zu optimieren und den Magnetfeld-Offset für die geringste Abweichung zum Referenzpixe zu finden:"
   ]
  },
  {
   "cell_type": "code",
   "execution_count": null,
   "metadata": {},
   "outputs": [],
   "source": [
    "def func_to_min_single_pixel(B_offset,pixel_means,pixel,reference_pixel=3):\n",
    "    '''Berechne Abstand der korrigierten Energie zum Referenzpixel für einen einzelnen Pixel.'''\n",
    "    pitchangles = calc_pw(dat.mag,B_offset)\n",
    "    pw, pw_time = average_pw(dat.mag,period,pitchangles)\n",
    "\n",
    "    energy2_corrected = dat.energy_correction(pixel_means[pixel],pw[reference_pixel-1],pw[pixel-1],2,2)[0]\n",
    "    diff_corrected = energy2_corrected - pixel_means[reference_pixel]\n",
    "    pixel_deviation = np.sum(diff_corrected)/len(diff_corrected)\n",
    "    print('calculated function to minimize')\n",
    "    return abs(total_deviation)"
   ]
  },
  {
   "cell_type": "code",
   "execution_count": null,
   "metadata": {},
   "outputs": [],
   "source": [
    "B_offset0 = [0,0,0]\n",
    "\n",
    "print('Idealer Magnetfeld-Offset:')\n",
    "for pixel in range(1,16):\n",
    "    x_opt, es = cma.fmin2(objective_function = func_to_min_single_pixel, x0 = [B_offset0], sigma0 = 0.5, args = [pixel_means,pixel], options = {'maxfevals':100})\n",
    "    print(f'Pixel {pixel}:')\n",
    "    print(x_opt)"
   ]
  }
 ],
 "metadata": {
  "kernelspec": {
   "display_name": "Python 3 (Spyder)",
   "language": "python3",
   "name": "python3"
  },
  "language_info": {
   "codemirror_mode": {
    "name": "ipython",
    "version": 3
   },
   "file_extension": ".py",
   "mimetype": "text/x-python",
   "name": "python",
   "nbconvert_exporter": "python",
   "pygments_lexer": "ipython3",
   "version": "3.11.2"
  }
 },
 "nbformat": 4,
 "nbformat_minor": 4
}
