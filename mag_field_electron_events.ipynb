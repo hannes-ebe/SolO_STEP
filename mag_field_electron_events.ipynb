{
 "cells": [
  {
   "cell_type": "markdown",
   "id": "a62dedc9-f935-42ab-ac2b-8a55059ae3e5",
   "metadata": {},
   "source": [
    "# Investigation of Magnetic Field of Electron Events"
   ]
  },
  {
   "cell_type": "code",
   "execution_count": 1,
   "id": "201ef3a1-7664-4465-a891-baa531ac4745",
   "metadata": {},
   "outputs": [],
   "source": [
    "import numpy as np\n",
    "import matplotlib.pyplot as plt\n",
    "import datetime as dt\n",
    "from mag import MAGdata"
   ]
  },
  {
   "cell_type": "code",
   "execution_count": 2,
   "id": "94254f91-50df-42da-abb6-30e08acbc16f",
   "metadata": {},
   "outputs": [
    {
     "name": "stdout",
     "output_type": "stream",
     "text": [
      "2021-12-04 13:50:00 /data/projects/solo/mag/l2_soar/srf/2021/solo_L2_mag-srf-normal_20211204_V01.cdf\n",
      "2022-11-12 02:40:00 /data/projects/solo/mag/l2_soar/srf/2022/solo_L2_mag-srf-normal_20221112_V01.cdf\n",
      "2022-11-19 14:00:00 /data/projects/solo/mag/l2_soar/srf/2022/solo_L2_mag-srf-normal_20221119_V01.cdf\n"
     ]
    }
   ],
   "source": [
    "### 2021-12-4 ###\n",
    "\n",
    "period1 =(dt.datetime(2021,12,4,13,50),dt.datetime(2021,12,4,14,30))\n",
    "dat1 = MAGdata(period=period1)\n",
    "\n",
    "### 2022-11-12 ###\n",
    "\n",
    "period2 = (dt.datetime(2022,11,12,2,40),dt.datetime(2022,11,12,3,25))\n",
    "dat2 = MAGdata(period=period2)\n",
    "\n",
    "### 2022-11-19 ###\n",
    "\n",
    "period3 = (dt.datetime(2022,11,19,14),dt.datetime(2022,11,19,16,15))\n",
    "dat3 = MAGdata(period=period3)"
   ]
  },
  {
   "cell_type": "code",
   "execution_count": 33,
   "id": "a97d4817-4c51-4600-a6f7-1b1532ee4d83",
   "metadata": {},
   "outputs": [],
   "source": [
    "def srf_ts(self,period,savepath):\n",
    "    '''time series of magnetic field and pitch angles in srf'''\n",
    "    mask = (period[0] <= self.time) * (period[1] > self.time)\n",
    "    \n",
    "    fig, (ax1, ax2) = plt.subplots(2,1,figsize=(10,10),sharex=True)\n",
    "    ax1.plot(self.time[mask],self.B_R[mask],label='X')\n",
    "    ax1.plot(self.time[mask],self.B_T[mask],label='Y')\n",
    "    ax1.plot(self.time[mask],self.B_N[mask],label='Z')\n",
    "    ax1.legend()\n",
    "    ax1.set_ylabel('magnetic field component [nT]')\n",
    "    ax1.set_title(f'Investigation of Magnetic Field: {period[0]} to {period[1]}')\n",
    "\n",
    "    for i in [1,2,3,4,5]:\n",
    "        ax2.plot(self.time[mask],np.degrees(self.pitchangles[i-1][mask]),label=f'pixel {i}')\n",
    "    ax2.legend()\n",
    "    ax2.set_xlabel('time')\n",
    "    ax2.set_ylabel('pitch angle [°]')\n",
    "    ax2.tick_params(axis='x', labelrotation=45)\n",
    "\n",
    "    plt.subplots_adjust(hspace=0.001)\n",
    "    plt.savefig(savepath)\n",
    "    plt.close('all')\n",
    "\n",
    "srf_ts(dat1,period1,'total_comparison/mag_ts_21_12_04.png')\n",
    "srf_ts(dat2,period2,'total_comparison/mag_ts_22_11_12.png')\n",
    "srf_ts(dat3,period3,'total_comparison/mag_ts_22_11_19.png')"
   ]
  }
 ],
 "metadata": {
  "kernelspec": {
   "display_name": "Python 3 (Spyder)",
   "language": "python3",
   "name": "python3"
  },
  "language_info": {
   "codemirror_mode": {
    "name": "ipython",
    "version": 3
   },
   "file_extension": ".py",
   "mimetype": "text/x-python",
   "name": "python",
   "nbconvert_exporter": "python",
   "pygments_lexer": "ipython3",
   "version": "3.11.2"
  }
 },
 "nbformat": 4,
 "nbformat_minor": 5
}
